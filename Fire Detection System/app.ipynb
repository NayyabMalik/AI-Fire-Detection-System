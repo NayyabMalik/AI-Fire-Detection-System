{
 "cells": [
  {
   "cell_type": "code",
   "execution_count": null,
   "id": "b33b8cf4",
   "metadata": {},
   "outputs": [
    {
     "name": "stderr",
     "output_type": "stream",
     "text": [
      "2025-05-15 09:14:18,054 - DEBUG - {\"clientId\": {\"$oid\": \"68256a199a6d518de2c258a7\"}, \"message\": \"Connection pool created\", \"serverHost\": \"localhost\", \"serverPort\": 27017}\n",
      "2025-05-15 09:14:18,064 - INFO - MongoDB connected successfully\n",
      "2025-05-15 09:14:18,119 - DEBUG - Creating converter from 3 to 5\n",
      "2025-05-15 09:14:18,248 - DEBUG - {\"clientId\": {\"$oid\": \"68256a199a6d518de2c258a7\"}, \"message\": \"Connection pool ready\", \"serverHost\": \"localhost\", \"serverPort\": 27017}\n",
      "2025-05-15 09:14:24,235 - WARNING - Compiled the loaded model, but the compiled metrics have yet to be built. `model.compile_metrics` will be empty until you train or evaluate the model.\n",
      "2025-05-15 09:14:24,263 - INFO - Model loaded successfully\n"
     ]
    },
    {
     "name": "stdout",
     "output_type": "stream",
     "text": [
      " * Serving Flask app '__main__'\n",
      " * Debug mode: off\n"
     ]
    },
    {
     "name": "stderr",
     "output_type": "stream",
     "text": [
      "2025-05-15 09:14:24,328 - INFO - \u001b[31m\u001b[1mWARNING: This is a development server. Do not use it in a production deployment. Use a production WSGI server instead.\u001b[0m\n",
      " * Running on http://127.0.0.1:5000\n",
      "2025-05-15 09:14:24,329 - INFO - \u001b[33mPress CTRL+C to quit\u001b[0m\n",
      "2025-05-15 09:14:28,532 - INFO - 127.0.0.1 - - [15/May/2025 09:14:28] \"GET / HTTP/1.1\" 200 -\n",
      "2025-05-15 09:14:28,784 - INFO - 127.0.0.1 - - [15/May/2025 09:14:28] \"\u001b[36mGET /static/css/index.css HTTP/1.1\u001b[0m\" 304 -\n",
      "2025-05-15 09:14:29,656 - INFO - 127.0.0.1 - - [15/May/2025 09:14:29] \"\u001b[33mGET /favicon.ico HTTP/1.1\u001b[0m\" 404 -\n",
      "2025-05-15 09:14:37,216 - INFO - 127.0.0.1 - - [15/May/2025 09:14:37] \"GET /login HTTP/1.1\" 200 -\n",
      "2025-05-15 09:14:37,377 - INFO - 127.0.0.1 - - [15/May/2025 09:14:37] \"\u001b[36mGET /static/css/login.css HTTP/1.1\u001b[0m\" 304 -\n",
      "2025-05-15 09:14:40,118 - DEBUG - {\"message\": \"Server selection started\", \"selector\": \"Primary()\", \"operation\": \"find\", \"topologyDescription\": \"<TopologyDescription id: 68256a199a6d518de2c258a7, topology_type: Single, servers: [<ServerDescription ('localhost', 27017) server_type: Standalone, rtt: 0.09071999999228866>]>\", \"clientId\": {\"$oid\": \"68256a199a6d518de2c258a7\"}}\n",
      "2025-05-15 09:14:40,123 - DEBUG - {\"message\": \"Server selection succeeded\", \"selector\": \"Primary()\", \"operation\": \"find\", \"topologyDescription\": \"<TopologyDescription id: 68256a199a6d518de2c258a7, topology_type: Single, servers: [<ServerDescription ('localhost', 27017) server_type: Standalone, rtt: 0.09071999999228866>]>\", \"clientId\": {\"$oid\": \"68256a199a6d518de2c258a7\"}, \"serverHost\": \"localhost\", \"serverPort\": 27017}\n",
      "2025-05-15 09:14:40,127 - DEBUG - {\"clientId\": {\"$oid\": \"68256a199a6d518de2c258a7\"}, \"message\": \"Connection checkout started\", \"serverHost\": \"localhost\", \"serverPort\": 27017}\n",
      "2025-05-15 09:14:40,136 - DEBUG - {\"clientId\": {\"$oid\": \"68256a199a6d518de2c258a7\"}, \"message\": \"Connection created\", \"serverHost\": \"localhost\", \"serverPort\": 27017, \"driverConnectionId\": 1}\n",
      "2025-05-15 09:14:40,170 - DEBUG - {\"clientId\": {\"$oid\": \"68256a199a6d518de2c258a7\"}, \"message\": \"Connection ready\", \"serverHost\": \"localhost\", \"serverPort\": 27017, \"driverConnectionId\": 1, \"durationMS\": 0.0}\n",
      "2025-05-15 09:14:40,173 - DEBUG - {\"clientId\": {\"$oid\": \"68256a199a6d518de2c258a7\"}, \"message\": \"Connection checked out\", \"serverHost\": \"localhost\", \"serverPort\": 27017, \"driverConnectionId\": 1, \"durationMS\": 0.0470000000204891}\n",
      "2025-05-15 09:14:40,184 - DEBUG - {\"clientId\": {\"$oid\": \"68256a199a6d518de2c258a7\"}, \"message\": \"Command started\", \"command\": \"{\\\"find\\\": \\\"users\\\", \\\"filter\\\": {\\\"email\\\": \\\"nayyabm16@gmail.com\\\"}, \\\"limit\\\": 1, \\\"singleBatch\\\": true, \\\"lsid\\\": {\\\"id\\\": {\\\"$binary\\\": {\\\"base64\\\": \\\"nCzZ2C0KQE+YzWT+AWiRXA==\\\", \\\"subType\\\": \\\"04\\\"}}}, \\\"$db\\\": \\\"fire_detection\\\"}\", \"commandName\": \"find\", \"databaseName\": \"fire_detection\", \"requestId\": 18467, \"operationId\": 18467, \"driverConnectionId\": 1, \"serverConnectionId\": 27, \"serverHost\": \"localhost\", \"serverPort\": 27017}\n",
      "2025-05-15 09:14:40,260 - DEBUG - {\"clientId\": {\"$oid\": \"68256a199a6d518de2c258a7\"}, \"message\": \"Command succeeded\", \"durationMS\": 79.028, \"reply\": \"{\\\"cursor\\\": {\\\"firstBatch\\\": [{\\\"_id\\\": {\\\"$oid\\\": \\\"6823a3938f2b28d12ee13962\\\"}, \\\"username\\\": \\\"Nayyab Malik\\\", \\\"email\\\": \\\"nayyabm16@gmail.com\\\", \\\"password\\\": \\\"scrypt:32768:8:1$2hWuuUIQ1OWU6YqL$edd6047c170b745d654c0299407812776082bf02c0f4867f7d52ab72e078bc3b1e9375f9b1990941fadc37fa6e95410c55627c9754d69fa9e9ebb5608f9467fd\\\"}], \\\"ns\\\": \\\"fire_detection.users\\\"}, \\\"ok\\\": 1.0}\", \"commandName\": \"find\", \"databaseName\": \"fire_detection\", \"requestId\": 18467, \"operationId\": 18467, \"driverConnectionId\": 1, \"serverConnectionId\": 27, \"serverHost\": \"localhost\", \"serverPort\": 27017}\n",
      "2025-05-15 09:14:40,268 - DEBUG - {\"clientId\": {\"$oid\": \"68256a199a6d518de2c258a7\"}, \"message\": \"Connection checked in\", \"serverHost\": \"localhost\", \"serverPort\": 27017, \"driverConnectionId\": 1}\n",
      "2025-05-15 09:14:40,855 - INFO - 127.0.0.1 - - [15/May/2025 09:14:40] \"\u001b[32mPOST /login HTTP/1.1\u001b[0m\" 302 -\n",
      "2025-05-15 09:14:40,895 - INFO - 127.0.0.1 - - [15/May/2025 09:14:40] \"GET /upload HTTP/1.1\" 200 -\n",
      "2025-05-15 09:14:41,084 - INFO - 127.0.0.1 - - [15/May/2025 09:14:41] \"\u001b[36mGET /static/css/upload.css HTTP/1.1\u001b[0m\" 304 -\n",
      "2025-05-15 09:14:41,185 - INFO - 127.0.0.1 - - [15/May/2025 09:14:41] \"\u001b[36mGET /static/js/upload.js HTTP/1.1\u001b[0m\" 304 -\n",
      "2025-05-15 09:15:33,258 - INFO - Video saved to uploads\\9511e631-6104-4d33-b915-7eb74dbe461c_VID-20241115-WA0002.mp4\n",
      "2025-05-15 09:15:33,263 - DEBUG - Started processing with ID: a378e1ea-fd90-4979-897f-39891ad909be\n",
      "2025-05-15 09:15:34,097 - INFO - Processing video: uploads\\9511e631-6104-4d33-b915-7eb74dbe461c_VID-20241115-WA0002.mp4, Total frames: 39, FPS: 26.59090909090909\n"
     ]
    },
    {
     "name": "stdout",
     "output_type": "stream",
     "text": [
      "[INFO] Starting frame analysis with dynamic frame skipping...\n"
     ]
    },
    {
     "name": "stderr",
     "output_type": "stream",
     "text": [
      "2025-05-15 09:15:47,691 - DEBUG - Progress for a378e1ea-fd90-4979-897f-39891ad909be: 0.00%\n"
     ]
    },
    {
     "name": "stdout",
     "output_type": "stream",
     "text": [
      "Frame 0: Fire probability = 0.03\n"
     ]
    },
    {
     "name": "stderr",
     "output_type": "stream",
     "text": [
      "2025-05-15 09:15:48,633 - DEBUG - Progress for a378e1ea-fd90-4979-897f-39891ad909be: 12.82%\n"
     ]
    },
    {
     "name": "stdout",
     "output_type": "stream",
     "text": [
      "Frame 5: Fire probability = 0.02\n"
     ]
    },
    {
     "name": "stderr",
     "output_type": "stream",
     "text": [
      "2025-05-15 09:15:49,596 - DEBUG - Progress for a378e1ea-fd90-4979-897f-39891ad909be: 25.64%\n"
     ]
    },
    {
     "name": "stdout",
     "output_type": "stream",
     "text": [
      "Frame 10: Fire probability = 0.02\n"
     ]
    },
    {
     "name": "stderr",
     "output_type": "stream",
     "text": [
      "2025-05-15 09:15:50,543 - DEBUG - Progress for a378e1ea-fd90-4979-897f-39891ad909be: 38.46%\n"
     ]
    },
    {
     "name": "stdout",
     "output_type": "stream",
     "text": [
      "Frame 15: Fire probability = 0.01\n"
     ]
    },
    {
     "name": "stderr",
     "output_type": "stream",
     "text": [
      "2025-05-15 09:15:51,460 - DEBUG - Progress for a378e1ea-fd90-4979-897f-39891ad909be: 51.28%\n"
     ]
    },
    {
     "name": "stdout",
     "output_type": "stream",
     "text": [
      "Frame 20: Fire probability = 0.02\n"
     ]
    },
    {
     "name": "stderr",
     "output_type": "stream",
     "text": [
      "2025-05-15 09:15:52,534 - DEBUG - Progress for a378e1ea-fd90-4979-897f-39891ad909be: 64.10%\n"
     ]
    },
    {
     "name": "stdout",
     "output_type": "stream",
     "text": [
      "Frame 25: Fire probability = 0.00\n"
     ]
    },
    {
     "name": "stderr",
     "output_type": "stream",
     "text": [
      "2025-05-15 09:15:53,682 - DEBUG - Progress for a378e1ea-fd90-4979-897f-39891ad909be: 76.92%\n"
     ]
    },
    {
     "name": "stdout",
     "output_type": "stream",
     "text": [
      "Frame 30: Fire probability = 0.04\n"
     ]
    },
    {
     "name": "stderr",
     "output_type": "stream",
     "text": [
      "2025-05-15 09:15:54,840 - DEBUG - Progress for a378e1ea-fd90-4979-897f-39891ad909be: 89.74%\n",
      "2025-05-15 09:15:54,923 - INFO - Total fire clips found: 0\n",
      "2025-05-15 09:15:54,971 - INFO - Extracted 0 fire clips to 'extracted_clips'\n",
      "2025-05-15 09:15:54,973 - INFO - Video processing completed\n",
      "2025-05-15 09:15:54,975 - INFO - 127.0.0.1 - - [15/May/2025 09:15:54] \"POST /upload HTTP/1.1\" 200 -\n",
      "2025-05-15 09:15:54,996 - INFO - 127.0.0.1 - - [15/May/2025 09:15:54] \"GET /progress HTTP/1.1\" 200 -\n"
     ]
    },
    {
     "name": "stdout",
     "output_type": "stream",
     "text": [
      "Frame 35: Fire probability = 0.02\n",
      "[INFO] Total fire clips found: 0\n",
      "[DONE] Extracted 0 fire clips to 'extracted_clips'\n"
     ]
    },
    {
     "name": "stderr",
     "output_type": "stream",
     "text": [
      "2025-05-15 09:15:55,046 - INFO - Found 0 clips in results\n",
      "2025-05-15 09:15:55,162 - INFO - 127.0.0.1 - - [15/May/2025 09:15:55] \"GET /results HTTP/1.1\" 200 -\n",
      "2025-05-15 09:15:55,460 - INFO - 127.0.0.1 - - [15/May/2025 09:15:55] \"GET /static/css/results.css HTTP/1.1\" 200 -\n",
      "2025-05-15 09:16:22,956 - INFO - 127.0.0.1 - - [15/May/2025 09:16:22] \"GET /upload HTTP/1.1\" 200 -\n",
      "2025-05-15 09:16:29,959 - INFO - Video saved to uploads\\a60fc4cb-4918-4d7e-83d1-ab816ba129b7_VID-20241115-WA0003.mp4\n",
      "2025-05-15 09:16:29,978 - DEBUG - Started processing with ID: b4146307-021d-4113-9842-6bbeb7857ba7\n",
      "2025-05-15 09:16:30,275 - INFO - Processing video: uploads\\a60fc4cb-4918-4d7e-83d1-ab816ba129b7_VID-20241115-WA0003.mp4, Total frames: 111, FPS: 30.0\n"
     ]
    },
    {
     "name": "stdout",
     "output_type": "stream",
     "text": [
      "[INFO] Starting frame analysis with dynamic frame skipping...\n"
     ]
    },
    {
     "name": "stderr",
     "output_type": "stream",
     "text": [
      "2025-05-15 09:16:34,701 - DEBUG - Progress for b4146307-021d-4113-9842-6bbeb7857ba7: 0.00%\n"
     ]
    },
    {
     "name": "stdout",
     "output_type": "stream",
     "text": [
      "Frame 0: Fire probability = 0.01\n"
     ]
    },
    {
     "name": "stderr",
     "output_type": "stream",
     "text": [
      "2025-05-15 09:16:38,374 - DEBUG - Progress for b4146307-021d-4113-9842-6bbeb7857ba7: 4.50%\n"
     ]
    },
    {
     "name": "stdout",
     "output_type": "stream",
     "text": [
      "Frame 5: Fire probability = 0.04\n"
     ]
    },
    {
     "name": "stderr",
     "output_type": "stream",
     "text": [
      "2025-05-15 09:16:42,132 - DEBUG - Progress for b4146307-021d-4113-9842-6bbeb7857ba7: 9.01%\n"
     ]
    },
    {
     "name": "stdout",
     "output_type": "stream",
     "text": [
      "Frame 10: Fire probability = 0.12\n"
     ]
    },
    {
     "name": "stderr",
     "output_type": "stream",
     "text": [
      "2025-05-15 09:16:44,452 - DEBUG - Progress for b4146307-021d-4113-9842-6bbeb7857ba7: 13.51%\n"
     ]
    },
    {
     "name": "stdout",
     "output_type": "stream",
     "text": [
      "Frame 15: Fire probability = 0.09\n"
     ]
    },
    {
     "name": "stderr",
     "output_type": "stream",
     "text": [
      "2025-05-15 09:16:46,845 - DEBUG - Progress for b4146307-021d-4113-9842-6bbeb7857ba7: 18.02%\n"
     ]
    },
    {
     "name": "stdout",
     "output_type": "stream",
     "text": [
      "Frame 20: Fire probability = 0.03\n"
     ]
    },
    {
     "name": "stderr",
     "output_type": "stream",
     "text": [
      "2025-05-15 09:16:49,135 - DEBUG - Progress for b4146307-021d-4113-9842-6bbeb7857ba7: 22.52%\n"
     ]
    },
    {
     "name": "stdout",
     "output_type": "stream",
     "text": [
      "Frame 25: Fire probability = 0.07\n"
     ]
    },
    {
     "name": "stderr",
     "output_type": "stream",
     "text": [
      "2025-05-15 09:16:51,401 - DEBUG - Progress for b4146307-021d-4113-9842-6bbeb7857ba7: 27.03%\n"
     ]
    },
    {
     "name": "stdout",
     "output_type": "stream",
     "text": [
      "Frame 30: Fire probability = 0.04\n"
     ]
    },
    {
     "name": "stderr",
     "output_type": "stream",
     "text": [
      "2025-05-15 09:16:53,468 - DEBUG - Progress for b4146307-021d-4113-9842-6bbeb7857ba7: 31.53%\n"
     ]
    },
    {
     "name": "stdout",
     "output_type": "stream",
     "text": [
      "Frame 35: Fire probability = 0.02\n"
     ]
    },
    {
     "name": "stderr",
     "output_type": "stream",
     "text": [
      "2025-05-15 09:16:54,721 - DEBUG - Progress for b4146307-021d-4113-9842-6bbeb7857ba7: 36.04%\n"
     ]
    },
    {
     "name": "stdout",
     "output_type": "stream",
     "text": [
      "Frame 40: Fire probability = 0.02\n"
     ]
    },
    {
     "name": "stderr",
     "output_type": "stream",
     "text": [
      "2025-05-15 09:16:56,043 - DEBUG - Progress for b4146307-021d-4113-9842-6bbeb7857ba7: 40.54%\n"
     ]
    },
    {
     "name": "stdout",
     "output_type": "stream",
     "text": [
      "Frame 45: Fire probability = 0.04\n"
     ]
    },
    {
     "name": "stderr",
     "output_type": "stream",
     "text": [
      "2025-05-15 09:16:57,136 - DEBUG - Progress for b4146307-021d-4113-9842-6bbeb7857ba7: 45.05%\n"
     ]
    },
    {
     "name": "stdout",
     "output_type": "stream",
     "text": [
      "Frame 50: Fire probability = 0.05\n"
     ]
    },
    {
     "name": "stderr",
     "output_type": "stream",
     "text": [
      "2025-05-15 09:16:58,234 - DEBUG - Progress for b4146307-021d-4113-9842-6bbeb7857ba7: 49.55%\n"
     ]
    },
    {
     "name": "stdout",
     "output_type": "stream",
     "text": [
      "Frame 55: Fire probability = 0.10\n"
     ]
    },
    {
     "name": "stderr",
     "output_type": "stream",
     "text": [
      "2025-05-15 09:16:59,326 - DEBUG - Progress for b4146307-021d-4113-9842-6bbeb7857ba7: 54.05%\n"
     ]
    },
    {
     "name": "stdout",
     "output_type": "stream",
     "text": [
      "Frame 60: Fire probability = 0.00\n"
     ]
    },
    {
     "name": "stderr",
     "output_type": "stream",
     "text": [
      "2025-05-15 09:17:00,488 - DEBUG - Progress for b4146307-021d-4113-9842-6bbeb7857ba7: 58.56%\n"
     ]
    },
    {
     "name": "stdout",
     "output_type": "stream",
     "text": [
      "Frame 65: Fire probability = 0.00\n"
     ]
    },
    {
     "name": "stderr",
     "output_type": "stream",
     "text": [
      "2025-05-15 09:17:01,643 - DEBUG - Progress for b4146307-021d-4113-9842-6bbeb7857ba7: 63.06%\n"
     ]
    },
    {
     "name": "stdout",
     "output_type": "stream",
     "text": [
      "Frame 70: Fire probability = 0.01\n"
     ]
    },
    {
     "name": "stderr",
     "output_type": "stream",
     "text": [
      "2025-05-15 09:17:02,753 - DEBUG - Progress for b4146307-021d-4113-9842-6bbeb7857ba7: 67.57%\n"
     ]
    },
    {
     "name": "stdout",
     "output_type": "stream",
     "text": [
      "Frame 75: Fire probability = 0.03\n"
     ]
    },
    {
     "name": "stderr",
     "output_type": "stream",
     "text": [
      "2025-05-15 09:17:03,865 - DEBUG - Progress for b4146307-021d-4113-9842-6bbeb7857ba7: 72.07%\n"
     ]
    },
    {
     "name": "stdout",
     "output_type": "stream",
     "text": [
      "Frame 80: Fire probability = 0.13\n"
     ]
    },
    {
     "name": "stderr",
     "output_type": "stream",
     "text": [
      "2025-05-15 09:17:05,133 - DEBUG - Progress for b4146307-021d-4113-9842-6bbeb7857ba7: 76.58%\n"
     ]
    },
    {
     "name": "stdout",
     "output_type": "stream",
     "text": [
      "Frame 85: Fire probability = 0.15\n"
     ]
    },
    {
     "name": "stderr",
     "output_type": "stream",
     "text": [
      "2025-05-15 09:17:06,325 - DEBUG - Progress for b4146307-021d-4113-9842-6bbeb7857ba7: 81.08%\n"
     ]
    },
    {
     "name": "stdout",
     "output_type": "stream",
     "text": [
      "Frame 90: Fire probability = 0.07\n"
     ]
    },
    {
     "name": "stderr",
     "output_type": "stream",
     "text": [
      "2025-05-15 09:17:08,294 - DEBUG - Progress for b4146307-021d-4113-9842-6bbeb7857ba7: 85.59%\n"
     ]
    },
    {
     "name": "stdout",
     "output_type": "stream",
     "text": [
      "Frame 95: Fire probability = 0.09\n"
     ]
    },
    {
     "name": "stderr",
     "output_type": "stream",
     "text": [
      "2025-05-15 09:17:10,864 - DEBUG - Progress for b4146307-021d-4113-9842-6bbeb7857ba7: 90.09%\n"
     ]
    },
    {
     "name": "stdout",
     "output_type": "stream",
     "text": [
      "Frame 100: Fire probability = 0.09\n"
     ]
    },
    {
     "name": "stderr",
     "output_type": "stream",
     "text": [
      "2025-05-15 09:17:12,847 - DEBUG - Progress for b4146307-021d-4113-9842-6bbeb7857ba7: 94.59%\n"
     ]
    },
    {
     "name": "stdout",
     "output_type": "stream",
     "text": [
      "Frame 105: Fire probability = 0.05\n"
     ]
    },
    {
     "name": "stderr",
     "output_type": "stream",
     "text": [
      "2025-05-15 09:17:14,514 - DEBUG - Progress for b4146307-021d-4113-9842-6bbeb7857ba7: 99.10%\n",
      "2025-05-15 09:17:14,537 - INFO - Total fire clips found: 0\n",
      "2025-05-15 09:17:14,626 - INFO - Extracted 0 fire clips to 'extracted_clips'\n",
      "2025-05-15 09:17:14,630 - INFO - Video processing completed\n",
      "2025-05-15 09:17:14,637 - INFO - 127.0.0.1 - - [15/May/2025 09:17:14] \"POST /upload HTTP/1.1\" 200 -\n"
     ]
    },
    {
     "name": "stdout",
     "output_type": "stream",
     "text": [
      "Frame 110: Fire probability = 0.07\n",
      "[INFO] Total fire clips found: 0\n",
      "[DONE] Extracted 0 fire clips to 'extracted_clips'\n"
     ]
    }
   ],
   "source": [
    "from flask import Flask, render_template, request, jsonify, redirect, url_for, session, send_from_directory\n",
    "from pymongo import MongoClient\n",
    "from werkzeug.security import generate_password_hash, check_password_hash\n",
    "import os\n",
    "import uuid\n",
    "import logging\n",
    "import cv2\n",
    "import numpy as np\n",
    "from tensorflow.keras.models import load_model\n",
    "\n",
    "app = Flask(__name__)\n",
    "app.secret_key = 'your-secret-key'  # Replace with a secure key in production\n",
    "\n",
    "# Configure logging\n",
    "logging.basicConfig(level=logging.DEBUG, format='%(asctime)s - %(levelname)s - %(message)s')\n",
    "logger = logging.getLogger(__name__)\n",
    "\n",
    "# MongoDB connection\n",
    "try:\n",
    "    client = MongoClient('mongodb://localhost:27017')\n",
    "    db = client['fire_detection']\n",
    "    users = db['users']\n",
    "    logger.info(\"MongoDB connected successfully\")\n",
    "except Exception as e:\n",
    "    logger.error(f\"Failed to connect to MongoDB: {str(e)}\")\n",
    "    raise\n",
    "\n",
    "# Directories\n",
    "UPLOAD_FOLDER = 'uploads'\n",
    "EXTRACTED_FOLDER = 'extracted_clips'\n",
    "os.makedirs(UPLOAD_FOLDER, exist_ok=True)\n",
    "os.makedirs(EXTRACTED_FOLDER, exist_ok=True)\n",
    "app.config['UPLOAD_FOLDER'] = UPLOAD_FOLDER\n",
    "\n",
    "# Model path\n",
    "MODEL_PATH = r\"C:\\Users\\PMLS\\Documents\\ai fire detection frontend\\fire_detection_model_image.h5\"\n",
    "\n",
    "# Load the trained model\n",
    "try:\n",
    "    model = load_model(MODEL_PATH)\n",
    "    logger.info(\"Model loaded successfully\")\n",
    "except Exception as e:\n",
    "    logger.error(f\"Failed to load model: {str(e)}\")\n",
    "    raise\n",
    "\n",
    "# Store progress (simple in-memory storage; use Redis/database in production)\n",
    "progress_data = {}\n",
    "\n",
    "def extract_fire_clips(\n",
    "    video_path,\n",
    "    output_dir,\n",
    "    progress_id=None,\n",
    "    frame_skip=5,\n",
    "    min_clip_length=5,   # in seconds\n",
    "    frame_threshold=0.3, # threshold to consider fire\n",
    "    vote_window=10,      # number of frames in voting window\n",
    "    vote_majority=3      # minimum fire votes in window to consider fire\n",
    "):\n",
    "    \"\"\"\n",
    "    Extract fire clips from a video using dynamic frame skipping based on model predictions.\n",
    "    \"\"\"\n",
    "    try:\n",
    "        if not os.path.exists(output_dir):\n",
    "            os.makedirs(output_dir)\n",
    "            logger.info(f\"Created output directory: {output_dir}\")\n",
    "\n",
    "        cap = cv2.VideoCapture(video_path)\n",
    "        if not cap.isOpened():\n",
    "            logger.error(f\"Failed to open video: {video_path}\")\n",
    "            raise ValueError(\"Invalid or corrupted video file\")\n",
    "        \n",
    "        total_frames = int(cap.get(cv2.CAP_PROP_FRAME_COUNT))\n",
    "        fps = cap.get(cv2.CAP_PROP_FPS)\n",
    "        logger.info(f\"Processing video: {video_path}, Total frames: {total_frames}, FPS: {fps}\")\n",
    "\n",
    "        fire_predictions = []\n",
    "        frame_num = 0\n",
    "\n",
    "        print(\"[INFO] Starting frame analysis with dynamic frame skipping...\")\n",
    "\n",
    "        while frame_num < total_frames:\n",
    "            cap.set(cv2.CAP_PROP_POS_FRAMES, frame_num)\n",
    "            ret, frame = cap.read()\n",
    "\n",
    "            if not ret:\n",
    "                logger.warning(f\"Failed to read frame {frame_num}\")\n",
    "                break\n",
    "\n",
    "            frame_resized = cv2.resize(frame, (299, 299))\n",
    "            frame_rgb = cv2.cvtColor(frame_resized, cv2.COLOR_BGR2RGB)\n",
    "            frame_norm = frame_rgb.astype(np.float32) / 255.0\n",
    "\n",
    "            try:\n",
    "                fire_prob = model.predict(np.expand_dims(frame_norm, axis=0), verbose=0)[0][0]\n",
    "                print(f\"Frame {frame_num}: Fire probability = {fire_prob:.2f}\")\n",
    "            except Exception as e:\n",
    "                logger.error(f\"Prediction error at frame {frame_num}: {str(e)}\")\n",
    "                raise\n",
    "\n",
    "            fire_predictions.append((frame_num, fire_prob))\n",
    "\n",
    "            # Update progress\n",
    "            if progress_id and progress_id in progress_data:\n",
    "                progress = (frame_num / total_frames) * 100\n",
    "                progress_data[progress_id]['progress'] = progress\n",
    "                logger.debug(f\"Progress for {progress_id}: {progress:.2f}%\")\n",
    "\n",
    "            # Dynamic frame skipping\n",
    "            if fire_prob > frame_threshold:\n",
    "                frame_num += 1\n",
    "            else:\n",
    "                frame_num += frame_skip\n",
    "\n",
    "        cap.release()\n",
    "\n",
    "        # Apply voting\n",
    "        fire_frames = []\n",
    "        for i in range(len(fire_predictions) - vote_window + 1):\n",
    "            window = fire_predictions[i:i + vote_window]\n",
    "            fire_votes = sum(1 for (_, prob) in window if prob > frame_threshold)\n",
    "\n",
    "            if fire_votes >= vote_majority:\n",
    "                mid_frame = window[vote_window // 2][0]\n",
    "                fire_frames.append(mid_frame)\n",
    "\n",
    "        fire_frames = sorted(set(fire_frames))\n",
    "\n",
    "        # Group frames into clips\n",
    "        clips = []\n",
    "        current_clip = []\n",
    "\n",
    "        for i, frame_num in enumerate(fire_frames):\n",
    "            if not current_clip:\n",
    "                current_clip.append(frame_num)\n",
    "            elif frame_num == current_clip[-1] + 1:\n",
    "                current_clip.append(frame_num)\n",
    "            else:\n",
    "                if len(current_clip) / fps >= min_clip_length:\n",
    "                    clips.append(current_clip)\n",
    "                current_clip = [frame_num]\n",
    "\n",
    "        if len(current_clip) / fps >= min_clip_length:\n",
    "            clips.append(current_clip)\n",
    "\n",
    "        print(f\"[INFO] Total fire clips found: {len(clips)}\")\n",
    "        logger.info(f\"Total fire clips found: {len(clips)}\")\n",
    "\n",
    "        # Save clips\n",
    "        cap = cv2.VideoCapture(video_path)\n",
    "        if not cap.isOpened():\n",
    "            logger.error(f\"Failed to reopen video for saving clips: {video_path}\")\n",
    "            raise ValueError(\"Failed to reopen video file\")\n",
    "\n",
    "        for idx, clip in enumerate(clips):\n",
    "            output_clip_path = os.path.join(output_dir, f\"fire_clip_{idx + 1}.mp4\")\n",
    "            fourcc = cv2.VideoWriter_fourcc(*'mp4v')\n",
    "            out = cv2.VideoWriter(output_clip_path, fourcc, fps, (299, 299))\n",
    "\n",
    "            if not out.isOpened():\n",
    "                logger.error(f\"Failed to create output video: {output_clip_path}\")\n",
    "                raise IOError(\"Failed to create output video\")\n",
    "\n",
    "            for frame_num in clip:\n",
    "                cap.set(cv2.CAP_PROP_POS_FRAMES, frame_num)\n",
    "                ret, frame = cap.read()\n",
    "                if ret:\n",
    "                    frame_resized = cv2.resize(frame, (299, 299))\n",
    "                    out.write(frame_resized)\n",
    "                else:\n",
    "                    logger.warning(f\"Failed to read frame {frame_num} for clip {idx + 1}\")\n",
    "\n",
    "            out.release()\n",
    "            print(f\"[SAVED] {output_clip_path}\")\n",
    "            logger.info(f\"Saved clip: {output_clip_path}\")\n",
    "\n",
    "        cap.release()\n",
    "        print(f\"[DONE] Extracted {len(clips)} fire clips to '{output_dir}'\")\n",
    "        logger.info(f\"Extracted {len(clips)} fire clips to '{output_dir}'\")\n",
    "\n",
    "    except Exception as e:\n",
    "        logger.error(f\"Error in extract_fire_clips: {str(e)}\", exc_info=True)\n",
    "        raise\n",
    "\n",
    "# Routes\n",
    "@app.route('/')\n",
    "def index():\n",
    "    return render_template('index.html')\n",
    "\n",
    "@app.route('/login', methods=['GET', 'POST'])\n",
    "def login():\n",
    "    if request.method == 'POST':\n",
    "        email = request.form['email']\n",
    "        password = request.form['password']\n",
    "        user = users.find_one({'email': email})\n",
    "        if user and check_password_hash(user['password'], password):\n",
    "            session['user_id'] = str(user['_id'])\n",
    "            return redirect(url_for('upload'))\n",
    "        return render_template('login.html', error='Invalid credentials')\n",
    "    return render_template('login.html')\n",
    "\n",
    "@app.route('/register', methods=['GET', 'POST'])\n",
    "def register():\n",
    "    if request.method == 'POST':\n",
    "        username = request.form['username']\n",
    "        email = request.form['email']\n",
    "        password = request.form['password']\n",
    "        if users.find_one({'email': email}):\n",
    "            return render_template('register.html', error='Email already exists')\n",
    "        hashed_password = generate_password_hash(password)\n",
    "        users.insert_one({\n",
    "            'username': username,\n",
    "            'email': email,\n",
    "            'password': hashed_password\n",
    "        })\n",
    "        return redirect(url_for('login'))\n",
    "    return render_template('register.html')\n",
    "\n",
    "@app.route('/upload', methods=['GET', 'POST'])\n",
    "def upload():\n",
    "    if 'user_id' not in session:\n",
    "        return redirect(url_for('login'))\n",
    "    if request.method == 'POST':\n",
    "        try:\n",
    "            if 'video' not in request.files:\n",
    "                logger.error(\"No video file provided in request\")\n",
    "                return jsonify({'error': 'No video file provided'}), 400\n",
    "            file = request.files['video']\n",
    "            if file.filename == '':\n",
    "                logger.error(\"No selected file\")\n",
    "                return jsonify({'error': 'No selected file'}), 400\n",
    "            filename = f\"{uuid.uuid4()}_{file.filename}\"\n",
    "            video_path = os.path.join(app.config['UPLOAD_FOLDER'], filename)\n",
    "            file.save(video_path)\n",
    "            logger.info(f\"Video saved to {video_path}\")\n",
    "            \n",
    "            # Store processing session\n",
    "            processing_id = str(uuid.uuid4())\n",
    "            session['processing_id'] = processing_id\n",
    "            progress_data[processing_id] = {'progress': 0, 'done': False}\n",
    "            logger.debug(f\"Started processing with ID: {processing_id}\")\n",
    "            \n",
    "            # Process video synchronously\n",
    "            try:\n",
    "                extract_fire_clips(\n",
    "                    video_path=video_path,\n",
    "                    output_dir=EXTRACTED_FOLDER,\n",
    "                    progress_id=processing_id,\n",
    "                    frame_skip=5,\n",
    "                    min_clip_length=5,\n",
    "                    frame_threshold=0.3,\n",
    "                    vote_window=10,\n",
    "                    vote_majority=3\n",
    "                )\n",
    "                progress_data[processing_id]['done'] = True\n",
    "                logger.info(\"Video processing completed\")\n",
    "            except Exception as e:\n",
    "                logger.error(f\"Failed to process video with extract_fire_clips: {str(e)}\", exc_info=True)\n",
    "                raise ValueError(f\"Video processing failed: {str(e)}\")\n",
    "            \n",
    "            return jsonify({'message': 'Processing complete', 'redirect': url_for('results')})\n",
    "        except Exception as e:\n",
    "            logger.error(f\"Error processing video: {str(e)}\", exc_info=True)\n",
    "            return jsonify({'error': f\"Server error: {str(e)}\"}), 500\n",
    "    return render_template('upload.html')\n",
    "\n",
    "@app.route('/progress')\n",
    "def get_progress():\n",
    "    try:\n",
    "        processing_id = session.get('processing_id')\n",
    "        if processing_id and processing_id in progress_data:\n",
    "            return jsonify(progress_data[processing_id])\n",
    "        logger.warning(\"No progress data found for session\")\n",
    "        return jsonify({'progress': 0, 'done': False})\n",
    "    except Exception as e:\n",
    "        logger.error(f\"Error fetching progress: {str(e)}\")\n",
    "        return jsonify({'error': f\"Server error: {str(e)}\"}), 500\n",
    "\n",
    "@app.route('/results')\n",
    "def results():\n",
    "    if 'user_id' not in session:\n",
    "        return redirect(url_for('login'))\n",
    "    try:\n",
    "        clips = [\n",
    "            {'url': f\"/extracted_clips/{file}\"}\n",
    "            for file in os.listdir(EXTRACTED_FOLDER)\n",
    "            if file.endswith('.mp4')\n",
    "        ]\n",
    "        logger.info(f\"Found {len(clips)} clips in results\")\n",
    "        return render_template('results.html', clips=clips)\n",
    "    except Exception as e:\n",
    "        logger.error(f\"Error loading results: {str(e)}\")\n",
    "        return render_template('results.html', clips=[], error=str(e))\n",
    "\n",
    "@app.route('/logout')\n",
    "def logout():\n",
    "    session.pop('user_id', None)\n",
    "    session.pop('processing_id', None)\n",
    "    return redirect(url_for('index'))\n",
    "\n",
    "# Serve extracted clips\n",
    "@app.route('/extracted_clips/<filename>')\n",
    "def serve_clip(filename):\n",
    "    try:\n",
    "        return send_from_directory(EXTRACTED_FOLDER, filename)\n",
    "    except Exception as e:\n",
    "        logger.error(f\"Error serving clip {filename}: {str(e)}\")\n",
    "        return jsonify({'error': f\"File not found: {str(e)}\"}), 404\n",
    "\n",
    "if __name__ == '__main__':\n",
    "    app.run()"
   ]
  },
  {
   "cell_type": "markdown",
   "id": "854087ec",
   "metadata": {},
   "source": [
    "Session"
   ]
  },
  {
   "cell_type": "code",
   "execution_count": 1,
   "id": "7c1968d1",
   "metadata": {},
   "outputs": [
    {
     "name": "stderr",
     "output_type": "stream",
     "text": [
      "2025-05-24 19:11:59,994 - DEBUG - {\"clientId\": {\"$oid\": \"6831d3af7800c355f733fec0\"}, \"message\": \"Connection pool created\", \"serverHost\": \"localhost\", \"serverPort\": 27017}\n",
      "2025-05-24 19:11:59,997 - INFO - MongoDB connected successfully\n",
      "2025-05-24 19:12:00,046 - DEBUG - Creating converter from 3 to 5\n",
      "2025-05-24 19:12:00,137 - DEBUG - {\"clientId\": {\"$oid\": \"6831d3af7800c355f733fec0\"}, \"message\": \"Connection pool ready\", \"serverHost\": \"localhost\", \"serverPort\": 27017}\n",
      "2025-05-24 19:12:03,462 - WARNING - Compiled the loaded model, but the compiled metrics have yet to be built. `model.compile_metrics` will be empty until you train or evaluate the model.\n",
      "2025-05-24 19:12:03,476 - INFO - Model loaded successfully\n"
     ]
    },
    {
     "name": "stdout",
     "output_type": "stream",
     "text": [
      " * Serving Flask app '__main__'\n",
      " * Debug mode: off\n"
     ]
    },
    {
     "name": "stderr",
     "output_type": "stream",
     "text": [
      "2025-05-24 19:12:03,511 - INFO - \u001b[31m\u001b[1mWARNING: This is a development server. Do not use it in a production deployment. Use a production WSGI server instead.\u001b[0m\n",
      " * Running on http://127.0.0.1:5000\n",
      "2025-05-24 19:12:03,512 - INFO - \u001b[33mPress CTRL+C to quit\u001b[0m\n",
      "2025-05-24 19:12:05,759 - INFO - 127.0.0.1 - - [24/May/2025 19:12:05] \"GET / HTTP/1.1\" 200 -\n",
      "2025-05-24 19:12:06,195 - INFO - 127.0.0.1 - - [24/May/2025 19:12:06] \"GET /static/css/index.css HTTP/1.1\" 200 -\n",
      "2025-05-24 19:12:07,141 - INFO - 127.0.0.1 - - [24/May/2025 19:12:07] \"\u001b[33mGET /favicon.ico HTTP/1.1\u001b[0m\" 404 -\n",
      "2025-05-24 19:12:11,210 - INFO - 127.0.0.1 - - [24/May/2025 19:12:11] \"GET /login HTTP/1.1\" 200 -\n",
      "2025-05-24 19:12:11,311 - INFO - 127.0.0.1 - - [24/May/2025 19:12:11] \"GET /static/css/login.css HTTP/1.1\" 200 -\n",
      "2025-05-24 19:12:22,291 - DEBUG - {\"message\": \"Server selection started\", \"selector\": \"Primary()\", \"operation\": \"find\", \"topologyDescription\": \"<TopologyDescription id: 6831d3af7800c355f733fec0, topology_type: Single, servers: [<ServerDescription ('localhost', 27017) server_type: Standalone, rtt: 0.07760000003501774>]>\", \"clientId\": {\"$oid\": \"6831d3af7800c355f733fec0\"}}\n",
      "2025-05-24 19:12:22,296 - DEBUG - {\"message\": \"Server selection succeeded\", \"selector\": \"Primary()\", \"operation\": \"find\", \"topologyDescription\": \"<TopologyDescription id: 6831d3af7800c355f733fec0, topology_type: Single, servers: [<ServerDescription ('localhost', 27017) server_type: Standalone, rtt: 0.07760000003501774>]>\", \"clientId\": {\"$oid\": \"6831d3af7800c355f733fec0\"}, \"serverHost\": \"localhost\", \"serverPort\": 27017}\n",
      "2025-05-24 19:12:22,299 - DEBUG - {\"clientId\": {\"$oid\": \"6831d3af7800c355f733fec0\"}, \"message\": \"Connection checkout started\", \"serverHost\": \"localhost\", \"serverPort\": 27017}\n",
      "2025-05-24 19:12:22,303 - DEBUG - {\"clientId\": {\"$oid\": \"6831d3af7800c355f733fec0\"}, \"message\": \"Connection created\", \"serverHost\": \"localhost\", \"serverPort\": 27017, \"driverConnectionId\": 1}\n",
      "2025-05-24 19:12:22,312 - DEBUG - {\"clientId\": {\"$oid\": \"6831d3af7800c355f733fec0\"}, \"message\": \"Connection ready\", \"serverHost\": \"localhost\", \"serverPort\": 27017, \"driverConnectionId\": 1, \"durationMS\": 0.0}\n",
      "2025-05-24 19:12:22,313 - DEBUG - {\"clientId\": {\"$oid\": \"6831d3af7800c355f733fec0\"}, \"message\": \"Connection checked out\", \"serverHost\": \"localhost\", \"serverPort\": 27017, \"driverConnectionId\": 1, \"durationMS\": 0.01600000006146729}\n",
      "2025-05-24 19:12:22,316 - DEBUG - {\"clientId\": {\"$oid\": \"6831d3af7800c355f733fec0\"}, \"message\": \"Command started\", \"command\": \"{\\\"find\\\": \\\"users\\\", \\\"filter\\\": {\\\"email\\\": \\\"nayyabm16@gmail.com\\\"}, \\\"limit\\\": 1, \\\"singleBatch\\\": true, \\\"lsid\\\": {\\\"id\\\": {\\\"$binary\\\": {\\\"base64\\\": \\\"24AGu83NQOCTIuU4mVEZJQ==\\\", \\\"subType\\\": \\\"04\\\"}}}, \\\"$db\\\": \\\"fire_detection\\\"}\", \"commandName\": \"find\", \"databaseName\": \"fire_detection\", \"requestId\": 18467, \"operationId\": 18467, \"driverConnectionId\": 1, \"serverConnectionId\": 27, \"serverHost\": \"localhost\", \"serverPort\": 27017}\n",
      "2025-05-24 19:12:22,419 - DEBUG - {\"clientId\": {\"$oid\": \"6831d3af7800c355f733fec0\"}, \"message\": \"Command succeeded\", \"durationMS\": 104.224, \"reply\": \"{\\\"cursor\\\": {\\\"firstBatch\\\": [{\\\"_id\\\": {\\\"$oid\\\": \\\"6823a3938f2b28d12ee13962\\\"}, \\\"username\\\": \\\"Nayyab Malik\\\", \\\"email\\\": \\\"nayyabm16@gmail.com\\\", \\\"password\\\": \\\"scrypt:32768:8:1$2hWuuUIQ1OWU6YqL$edd6047c170b745d654c0299407812776082bf02c0f4867f7d52ab72e078bc3b1e9375f9b1990941fadc37fa6e95410c55627c9754d69fa9e9ebb5608f9467fd\\\"}], \\\"ns\\\": \\\"fire_detection.users\\\"}, \\\"ok\\\": 1.0}\", \"commandName\": \"find\", \"databaseName\": \"fire_detection\", \"requestId\": 18467, \"operationId\": 18467, \"driverConnectionId\": 1, \"serverConnectionId\": 27, \"serverHost\": \"localhost\", \"serverPort\": 27017}\n",
      "2025-05-24 19:12:22,421 - DEBUG - {\"clientId\": {\"$oid\": \"6831d3af7800c355f733fec0\"}, \"message\": \"Connection checked in\", \"serverHost\": \"localhost\", \"serverPort\": 27017, \"driverConnectionId\": 1}\n",
      "2025-05-24 19:12:22,756 - INFO - 127.0.0.1 - - [24/May/2025 19:12:22] \"POST /login HTTP/1.1\" 200 -\n",
      "2025-05-24 19:12:22,838 - INFO - 127.0.0.1 - - [24/May/2025 19:12:22] \"\u001b[36mGET /static/css/login.css HTTP/1.1\u001b[0m\" 304 -\n",
      "2025-05-24 19:13:00,545 - DEBUG - {\"message\": \"Server selection started\", \"selector\": \"Primary()\", \"operation\": \"find\", \"topologyDescription\": \"<TopologyDescription id: 6831d3af7800c355f733fec0, topology_type: Single, servers: [<ServerDescription ('localhost', 27017) server_type: Standalone, rtt: 0.03178496001434328>]>\", \"clientId\": {\"$oid\": \"6831d3af7800c355f733fec0\"}}\n",
      "2025-05-24 19:13:00,550 - DEBUG - {\"message\": \"Server selection succeeded\", \"selector\": \"Primary()\", \"operation\": \"find\", \"topologyDescription\": \"<TopologyDescription id: 6831d3af7800c355f733fec0, topology_type: Single, servers: [<ServerDescription ('localhost', 27017) server_type: Standalone, rtt: 0.03178496001434328>]>\", \"clientId\": {\"$oid\": \"6831d3af7800c355f733fec0\"}, \"serverHost\": \"localhost\", \"serverPort\": 27017}\n",
      "2025-05-24 19:13:00,556 - DEBUG - {\"clientId\": {\"$oid\": \"6831d3af7800c355f733fec0\"}, \"message\": \"Connection checkout started\", \"serverHost\": \"localhost\", \"serverPort\": 27017}\n",
      "2025-05-24 19:13:00,561 - DEBUG - {\"clientId\": {\"$oid\": \"6831d3af7800c355f733fec0\"}, \"message\": \"Connection checked out\", \"serverHost\": \"localhost\", \"serverPort\": 27017, \"driverConnectionId\": 1, \"durationMS\": 0.0}\n",
      "2025-05-24 19:13:00,562 - DEBUG - {\"clientId\": {\"$oid\": \"6831d3af7800c355f733fec0\"}, \"message\": \"Command started\", \"command\": \"{\\\"find\\\": \\\"users\\\", \\\"filter\\\": {\\\"email\\\": \\\"nayyabm16@gmail.com\\\"}, \\\"limit\\\": 1, \\\"singleBatch\\\": true, \\\"lsid\\\": {\\\"id\\\": {\\\"$binary\\\": {\\\"base64\\\": \\\"24AGu83NQOCTIuU4mVEZJQ==\\\", \\\"subType\\\": \\\"04\\\"}}}, \\\"$db\\\": \\\"fire_detection\\\"}\", \"commandName\": \"find\", \"databaseName\": \"fire_detection\", \"requestId\": 41, \"operationId\": 41, \"driverConnectionId\": 1, \"serverConnectionId\": 27, \"serverHost\": \"localhost\", \"serverPort\": 27017}\n",
      "2025-05-24 19:13:00,564 - DEBUG - {\"clientId\": {\"$oid\": \"6831d3af7800c355f733fec0\"}, \"message\": \"Command succeeded\", \"durationMS\": 2.004, \"reply\": \"{\\\"cursor\\\": {\\\"firstBatch\\\": [{\\\"_id\\\": {\\\"$oid\\\": \\\"6823a3938f2b28d12ee13962\\\"}, \\\"username\\\": \\\"Nayyab Malik\\\", \\\"email\\\": \\\"nayyabm16@gmail.com\\\", \\\"password\\\": \\\"scrypt:32768:8:1$2hWuuUIQ1OWU6YqL$edd6047c170b745d654c0299407812776082bf02c0f4867f7d52ab72e078bc3b1e9375f9b1990941fadc37fa6e95410c55627c9754d69fa9e9ebb5608f9467fd\\\"}], \\\"ns\\\": \\\"fire_detection.users\\\"}, \\\"ok\\\": 1.0}\", \"commandName\": \"find\", \"databaseName\": \"fire_detection\", \"requestId\": 41, \"operationId\": 41, \"driverConnectionId\": 1, \"serverConnectionId\": 27, \"serverHost\": \"localhost\", \"serverPort\": 27017}\n",
      "2025-05-24 19:13:00,566 - DEBUG - {\"clientId\": {\"$oid\": \"6831d3af7800c355f733fec0\"}, \"message\": \"Connection checked in\", \"serverHost\": \"localhost\", \"serverPort\": 27017, \"driverConnectionId\": 1}\n",
      "2025-05-24 19:13:00,844 - INFO - User nayyabm16@gmail.com logged in successfully\n",
      "2025-05-24 19:13:00,855 - INFO - 127.0.0.1 - - [24/May/2025 19:13:00] \"\u001b[32mPOST /login HTTP/1.1\u001b[0m\" 302 -\n",
      "2025-05-24 19:13:01,012 - INFO - 127.0.0.1 - - [24/May/2025 19:13:01] \"GET /upload HTTP/1.1\" 200 -\n",
      "2025-05-24 19:13:01,222 - INFO - 127.0.0.1 - - [24/May/2025 19:13:01] \"GET /static/css/upload.css HTTP/1.1\" 200 -\n",
      "2025-05-24 19:13:01,315 - INFO - 127.0.0.1 - - [24/May/2025 19:13:01] \"\u001b[36mGET /static/js/upload.js HTTP/1.1\u001b[0m\" 304 -\n"
     ]
    }
   ],
   "source": [
    "from flask import Flask, render_template, request, jsonify, redirect, url_for, session, send_from_directory\n",
    "from pymongo import MongoClient\n",
    "from werkzeug.security import generate_password_hash, check_password_hash\n",
    "import os\n",
    "import uuid\n",
    "import logging\n",
    "import cv2\n",
    "import numpy as np\n",
    "from tensorflow.keras.models import load_model\n",
    "from datetime import timedelta\n",
    "\n",
    "app = Flask(__name__)\n",
    "app.secret_key = 'your-secret-key'  # Replace with a secure key in production\n",
    "app.permanent_session_lifetime = timedelta(days=7)  # Sessions last 7 days\n",
    "\n",
    "# Configure logging\n",
    "logging.basicConfig(level=logging.DEBUG, format='%(asctime)s - %(levelname)s - %(message)s')\n",
    "logger = logging.getLogger(__name__)\n",
    "\n",
    "# MongoDB connection\n",
    "try:\n",
    "    client = MongoClient('mongodb://localhost:27017')\n",
    "    db = client['fire_detection']\n",
    "    users = db['users']\n",
    "    logger.info(\"MongoDB connected successfully\")\n",
    "except Exception as e:\n",
    "    logger.error(f\"Failed to connect to MongoDB: {str(e)}\")\n",
    "    raise\n",
    "\n",
    "# Directories\n",
    "UPLOAD_FOLDER = 'uploads'\n",
    "EXTRACTED_FOLDER = 'extracted_clips'\n",
    "os.makedirs(UPLOAD_FOLDER, exist_ok=True)\n",
    "os.makedirs(EXTRACTED_FOLDER, exist_ok=True)\n",
    "app.config['UPLOAD_FOLDER'] = UPLOAD_FOLDER\n",
    "\n",
    "# Model path\n",
    "MODEL_PATH = r\"C:\\Users\\PMLS\\Documents\\ai fire detection frontend\\fire_detection_model_image.h5\"\n",
    "\n",
    "# Load the trained model\n",
    "try:\n",
    "    model = load_model(MODEL_PATH)\n",
    "    # Optional: Compile model to suppress warning (unnecessary for inference)\n",
    "    model.compile(optimizer='adam', loss='binary_crossentropy')\n",
    "    logger.info(\"Model loaded successfully\")\n",
    "except Exception as e:\n",
    "    logger.error(f\"Failed to load model: {str(e)}\")\n",
    "    raise\n",
    "\n",
    "# Store progress (simple in-memory storage; use Redis/database in production)\n",
    "progress_data = {}\n",
    "\n",
    "def extract_fire_clips(\n",
    "    video_path,\n",
    "    output_dir,\n",
    "    progress_id=None,\n",
    "    frame_skip=5,\n",
    "    min_clip_length=5,   # in seconds\n",
    "    frame_threshold=0.3, # threshold to consider fire\n",
    "    vote_window=10,      # number of frames in voting window\n",
    "    vote_majority=3      # minimum fire votes in window to consider fire\n",
    "):\n",
    "    \"\"\"\n",
    "    Extract fire clips from a video using dynamic frame skipping based on model predictions.\n",
    "    \"\"\"\n",
    "    try:\n",
    "        if not os.path.exists(output_dir):\n",
    "            os.makedirs(output_dir)\n",
    "            logger.info(f\"Created output directory: {output_dir}\")\n",
    "\n",
    "        cap = cv2.VideoCapture(video_path)\n",
    "        if not cap.isOpened():\n",
    "            logger.error(f\"Failed to open video: {video_path}\")\n",
    "            raise ValueError(\"Invalid or corrupted video file\")\n",
    "        \n",
    "        total_frames = int(cap.get(cv2.CAP_PROP_FRAME_COUNT))\n",
    "        fps = cap.get(cv2.CAP_PROP_FPS)\n",
    "        logger.info(f\"Processing video: {video_path}, Total frames: {total_frames}, FPS: {fps}\")\n",
    "\n",
    "        fire_predictions = []\n",
    "        frame_num = 0\n",
    "\n",
    "        print(\"[INFO] Starting frame analysis with dynamic frame skipping...\")\n",
    "        logger.debug(f\"Starting frame analysis for progress_id: {progress_id}\")\n",
    "\n",
    "        while frame_num < total_frames:\n",
    "            cap.set(cv2.CAP_PROP_POS_FRAMES, frame_num)\n",
    "            ret, frame = cap.read()\n",
    "\n",
    "            if not ret:\n",
    "                logger.warning(f\"Failed to read frame {frame_num}\")\n",
    "                break\n",
    "\n",
    "            frame_resized = cv2.resize(frame, (299, 299))\n",
    "            frame_rgb = cv2.cvtColor(frame_resized, cv2.COLOR_BGR2RGB)\n",
    "            frame_norm = frame_rgb.astype(np.float32) / 255.0\n",
    "\n",
    "            try:\n",
    "                fire_prob = model.predict(np.expand_dims(frame_norm, axis=0), verbose=0)[0][0]\n",
    "                print(f\"Frame {frame_num}: Fire probability = {fire_prob:.2f}\")\n",
    "                logger.debug(f\"Frame {frame_num}: Fire probability = {fire_prob:.2f}\")\n",
    "            except Exception as e:\n",
    "                logger.error(f\"Prediction error at frame {frame_num}: {str(e)}\")\n",
    "                raise\n",
    "\n",
    "            fire_predictions.append((frame_num, fire_prob))\n",
    "\n",
    "            # Update progress\n",
    "            if progress_id and progress_id in progress_data:\n",
    "                progress = (frame_num / total_frames) * 100\n",
    "                progress_data[progress_id]['progress'] = progress\n",
    "                logger.debug(f\"Progress for {progress_id}: {progress:.2f}%\")\n",
    "            else:\n",
    "                logger.warning(f\"Progress not updated: progress_id {progress_id} not in progress_data\")\n",
    "\n",
    "            # Dynamic frame skipping\n",
    "            if fire_prob > frame_threshold:\n",
    "                frame_num += 1\n",
    "            else:\n",
    "                frame_num += frame_skip\n",
    "\n",
    "        cap.release()\n",
    "\n",
    "        # Apply voting\n",
    "        fire_frames = []\n",
    "        for i in range(len(fire_predictions) - vote_window + 1):\n",
    "            window = fire_predictions[i:i + vote_window]\n",
    "            fire_votes = sum(1 for (_, prob) in window if prob > frame_threshold)\n",
    "\n",
    "            if fire_votes >= vote_majority:\n",
    "                mid_frame = window[vote_window // 2][0]\n",
    "                fire_frames.append(mid_frame)\n",
    "\n",
    "        fire_frames = sorted(set(fire_frames))\n",
    "\n",
    "        # Group frames into clips\n",
    "        clips = []\n",
    "        current_clip = []\n",
    "\n",
    "        for i, frame_num in enumerate(fire_frames):\n",
    "            if not current_clip:\n",
    "                current_clip.append(frame_num)\n",
    "            elif frame_num == current_clip[-1] + 1:\n",
    "                current_clip.append(frame_num)\n",
    "            else:\n",
    "                if len(current_clip) / fps >= min_clip_length:\n",
    "                    clips.append(current_clip)\n",
    "                current_clip = [frame_num]\n",
    "\n",
    "        if len(current_clip) / fps >= min_clip_length:\n",
    "            clips.append(current_clip)\n",
    "\n",
    "        print(f\"[INFO] Total fire clips found: {len(clips)}\")\n",
    "        logger.info(f\"Total fire clips found: {len(clips)}\")\n",
    "\n",
    "        # Save clips\n",
    "        cap = cv2.VideoCapture(video_path)\n",
    "        if not cap.isOpened():\n",
    "            logger.error(f\"Failed to reopen video for saving clips: {video_path}\")\n",
    "            raise ValueError(\"Failed to reopen video file\")\n",
    "\n",
    "        for idx, clip in enumerate(clips):\n",
    "            output_clip_path = os.path.join(output_dir, f\"fire_clip_{idx + 1}.mp4\")\n",
    "            fourcc = cv2.VideoWriter_fourcc(*'mp4v')\n",
    "            out = cv2.VideoWriter(output_clip_path, fourcc, fps, (299, 299))\n",
    "\n",
    "            if not out.isOpened():\n",
    "                logger.error(f\"Failed to create output video: {output_clip_path}\")\n",
    "                raise IOError(\"Failed to create output video\")\n",
    "\n",
    "            for frame_num in clip:\n",
    "                cap.set(cv2.CAP_PROP_POS_FRAMES, frame_num)\n",
    "                ret, frame = cap.read()\n",
    "                if ret:\n",
    "                    frame_resized = cv2.resize(frame, (299, 299))\n",
    "                    out.write(frame_resized)\n",
    "                else:\n",
    "                    logger.warning(f\"Failed to read frame {frame_num} for clip {idx + 1}\")\n",
    "\n",
    "            out.release()\n",
    "            print(f\"[SAVED] {output_clip_path}\")\n",
    "            logger.info(f\"Saved clip: {output_clip_path}\")\n",
    "\n",
    "        cap.release()\n",
    "        print(f\"[DONE] Extracted {len(clips)} fire clips to '{output_dir}'\")\n",
    "        logger.info(f\"Extracted {len(clips)} fire clips to '{output_dir}'\")\n",
    "\n",
    "    except Exception as e:\n",
    "        logger.error(f\"Error in extract_fire_clips: {str(e)}\", exc_info=True)\n",
    "        raise\n",
    "\n",
    "# Routes\n",
    "@app.route('/')\n",
    "def index():\n",
    "    if 'user_id' in session:\n",
    "        logger.debug(\"User already logged in, redirecting to upload\")\n",
    "        return redirect(url_for('upload'))\n",
    "    return render_template('index.html')\n",
    "\n",
    "@app.route('/login', methods=['GET', 'POST'])\n",
    "def login():\n",
    "    if 'user_id' in session:\n",
    "        logger.debug(\"User already logged in, redirecting to upload\")\n",
    "        return redirect(url_for('upload'))\n",
    "    if request.method == 'POST':\n",
    "        email = request.form['email']\n",
    "        password = request.form['password']\n",
    "        user = users.find_one({'email': email})\n",
    "        if user and check_password_hash(user['password'], password):\n",
    "            session['user_id'] = str(user['_id'])\n",
    "            session.permanent = True  # Make session persistent\n",
    "            logger.info(f\"User {email} logged in successfully\")\n",
    "            return redirect(url_for('upload'))\n",
    "        return render_template('login.html', error='Invalid credentials')\n",
    "    return render_template('login.html')\n",
    "\n",
    "@app.route('/register', methods=['GET', 'POST'])\n",
    "def register():\n",
    "    if 'user_id' in session:\n",
    "        logger.debug(\"User already logged in, redirecting to upload\")\n",
    "        return redirect(url_for('upload'))\n",
    "    if request.method == 'POST':\n",
    "        username = request.form['username']\n",
    "        email = request.form['email']\n",
    "        password = request.form['password']\n",
    "        if users.find_one({'email': email}):\n",
    "            return render_template('register.html', error='Email already exists')\n",
    "        hashed_password = generate_password_hash(password)\n",
    "        users.insert_one({\n",
    "            'username': username,\n",
    "            'email': email,\n",
    "            'password': hashed_password\n",
    "        })\n",
    "        logger.info(f\"User {email} registered successfully\")\n",
    "        return redirect(url_for('login'))\n",
    "    return render_template('register.html')\n",
    "\n",
    "@app.route('/upload', methods=['GET', 'POST'])\n",
    "def upload():\n",
    "    if 'user_id' not in session:\n",
    "        logger.debug(\"No user session, redirecting to login\")\n",
    "        return redirect(url_for('login'))\n",
    "    if request.method == 'POST':\n",
    "        try:\n",
    "            if 'video' not in request.files:\n",
    "                logger.error(\"No video file provided in request\")\n",
    "                return jsonify({'error': 'No video file provided'}), 400\n",
    "            file = request.files['video']\n",
    "            if file.filename == '':\n",
    "                logger.error(\"No selected file\")\n",
    "                return jsonify({'error': 'No selected file'}), 400\n",
    "            \n",
    "            # Check if processing is already in progress\n",
    "            if session.get('processing_id') and session['processing_id'] in progress_data and not progress_data[session['processing_id']]['done']:\n",
    "                logger.warning(\"Processing already in progress for this session\")\n",
    "                return jsonify({'error': 'Processing already in progress'}), 400\n",
    "            \n",
    "            filename = f\"{uuid.uuid4()}_{file.filename}\"\n",
    "            video_path = os.path.join(app.config['UPLOAD_FOLDER'], filename)\n",
    "            file.save(video_path)\n",
    "            logger.info(f\"Video saved to {video_path}\")\n",
    "            \n",
    "            # Store processing session\n",
    "            processing_id = str(uuid.uuid4())\n",
    "            session['processing_id'] = processing_id\n",
    "            progress_data[processing_id] = {'progress': 0, 'done': False}\n",
    "            logger.debug(f\"Started processing with ID: {processing_id}\")\n",
    "            \n",
    "            # Process video synchronously\n",
    "            try:\n",
    "                extract_fire_clips(\n",
    "                    video_path=video_path,\n",
    "                    output_dir=EXTRACTED_FOLDER,\n",
    "                    progress_id=processing_id,\n",
    "                    frame_skip=5,\n",
    "                    min_clip_length=5,\n",
    "                    frame_threshold=0.3,\n",
    "                    vote_window=10,\n",
    "                    vote_majority=3\n",
    "                )\n",
    "                progress_data[processing_id]['done'] = True\n",
    "                logger.info(\"Video processing completed\")\n",
    "            except Exception as e:\n",
    "                logger.error(f\"Failed to process video with extract_fire_clips: {str(e)}\", exc_info=True)\n",
    "                raise ValueError(f\"Video processing failed: {str(e)}\")\n",
    "            \n",
    "            return jsonify({'message': 'Processing complete', 'redirect': url_for('results')})\n",
    "        except Exception as e:\n",
    "            logger.error(f\"Error processing video: {str(e)}\", exc_info=True)\n",
    "            return jsonify({'error': f\"Server error: {str(e)}\"}), 500\n",
    "    return render_template('upload.html')\n",
    "\n",
    "@app.route('/progress')\n",
    "def get_progress():\n",
    "    try:\n",
    "        processing_id = session.get('processing_id')\n",
    "        logger.debug(f\"Fetching progress for processing_id: {processing_id}\")\n",
    "        if processing_id and processing_id in progress_data:\n",
    "            logger.debug(f\"Progress data: {progress_data[processing_id]}\")\n",
    "            return jsonify(progress_data[processing_id])\n",
    "        logger.warning(\"No progress data found for session\")\n",
    "        return jsonify({'progress': 0, 'done': False})\n",
    "    except Exception as e:\n",
    "        logger.error(f\"Error fetching progress: {str(e)}\")\n",
    "        return jsonify({'error': f\"Server error: {str(e)}\"}), 500\n",
    "\n",
    "@app.route('/results')\n",
    "def results():\n",
    "    if 'user_id' not in session:\n",
    "        logger.debug(\"No user session, redirecting to login\")\n",
    "        return redirect(url_for('login'))\n",
    "    try:\n",
    "        clips = [\n",
    "            {'url': f\"/extracted_clips/{file}\"}\n",
    "            for file in os.listdir(EXTRACTED_FOLDER)\n",
    "            if file.endswith('.mp4')\n",
    "        ]\n",
    "        logger.info(f\"Found {len(clips)} clips in results\")\n",
    "        return render_template('results.html', clips=clips)\n",
    "    except Exception as e:\n",
    "        logger.error(f\"Error loading results: {str(e)}\")\n",
    "        return render_template('results.html', clips=[], error=str(e))\n",
    "\n",
    "@app.route('/logout')\n",
    "def logout():\n",
    "    session.pop('user_id', None)\n",
    "    session.pop('processing_id', None)\n",
    "    logger.info(\"User logged out\")\n",
    "    return render_template('logout.html')\n",
    "\n",
    "# Serve extracted clips\n",
    "@app.route('/extracted_clips/<filename>')\n",
    "def serve_clip(filename):\n",
    "    try:\n",
    "        return send_from_directory(EXTRACTED_FOLDER, filename)\n",
    "    except Exception as e:\n",
    "        logger.error(f\"Error serving clip {filename}: {str(e)}\")\n",
    "        return jsonify({'error': f\"File not found: {str(e)}\"}), 404\n",
    "\n",
    "if __name__ == '__main__':\n",
    "    app.run()"
   ]
  },
  {
   "cell_type": "markdown",
   "id": "47d45e97",
   "metadata": {},
   "source": [
    "TASHFEEN CODE "
   ]
  },
  {
   "cell_type": "code",
   "execution_count": 2,
   "id": "077a16a7",
   "metadata": {},
   "outputs": [
    {
     "name": "stderr",
     "output_type": "stream",
     "text": [
      "2025-05-24 19:14:55,855 - DEBUG - {\"clientId\": {\"$oid\": \"6831d45f7800c355f733fec1\"}, \"message\": \"Connection pool created\", \"serverHost\": \"localhost\", \"serverPort\": 27017}\n",
      "2025-05-24 19:14:55,862 - INFO - MongoDB connected successfully\n",
      "2025-05-24 19:14:55,862 - DEBUG - {\"clientId\": {\"$oid\": \"6831d45f7800c355f733fec1\"}, \"message\": \"Connection pool ready\", \"serverHost\": \"localhost\", \"serverPort\": 27017}\n",
      "2025-05-24 19:14:59,260 - WARNING - Compiled the loaded model, but the compiled metrics have yet to be built. `model.compile_metrics` will be empty until you train or evaluate the model.\n",
      "2025-05-24 19:14:59,269 - INFO - Model loaded successfully\n"
     ]
    },
    {
     "name": "stdout",
     "output_type": "stream",
     "text": [
      " * Serving Flask app '__main__'\n",
      " * Debug mode: off\n"
     ]
    },
    {
     "name": "stderr",
     "output_type": "stream",
     "text": [
      "2025-05-24 19:14:59,282 - INFO - \u001b[31m\u001b[1mWARNING: This is a development server. Do not use it in a production deployment. Use a production WSGI server instead.\u001b[0m\n",
      " * Running on http://127.0.0.1:5000\n",
      "2025-05-24 19:14:59,283 - INFO - \u001b[33mPress CTRL+C to quit\u001b[0m\n",
      "2025-05-24 19:15:01,599 - DEBUG - User already logged in, redirecting to upload\n",
      "2025-05-24 19:15:01,605 - INFO - 127.0.0.1 - - [24/May/2025 19:15:01] \"\u001b[32mGET / HTTP/1.1\u001b[0m\" 302 -\n",
      "2025-05-24 19:15:01,653 - INFO - 127.0.0.1 - - [24/May/2025 19:15:01] \"GET /upload HTTP/1.1\" 200 -\n",
      "2025-05-24 19:15:01,804 - INFO - 127.0.0.1 - - [24/May/2025 19:15:01] \"\u001b[36mGET /static/css/upload.css HTTP/1.1\u001b[0m\" 304 -\n",
      "2025-05-24 19:15:01,823 - INFO - 127.0.0.1 - - [24/May/2025 19:15:01] \"\u001b[36mGET /static/js/upload.js HTTP/1.1\u001b[0m\" 304 -\n"
     ]
    }
   ],
   "source": [
    "from flask import Flask, render_template, request, jsonify, redirect, url_for, session, send_from_directory\n",
    "from pymongo import MongoClient\n",
    "from werkzeug.security import generate_password_hash, check_password_hash\n",
    "import os\n",
    "import uuid\n",
    "import logging\n",
    "import cv2\n",
    "import numpy as np\n",
    "from tensorflow.keras.models import load_model\n",
    "from datetime import timedelta\n",
    "\n",
    "app = Flask(__name__)\n",
    "app.secret_key = 'your-secret-key'  # Replace with a secure key in production\n",
    "app.permanent_session_lifetime = timedelta(days=7)  # Sessions last 7 days\n",
    "\n",
    "# Configure logging\n",
    "logging.basicConfig(level=logging.DEBUG, format='%(asctime)s - %(levelname)s - %(message)s')\n",
    "logger = logging.getLogger(__name__)\n",
    "\n",
    "# MongoDB connection\n",
    "try:\n",
    "    client = MongoClient('mongodb://localhost:27017')\n",
    "    db = client['fire_detection']\n",
    "    users = db['users']\n",
    "    logger.info(\"MongoDB connected successfully\")\n",
    "except Exception as e:\n",
    "    logger.error(f\"Failed to connect to MongoDB: {str(e)}\")\n",
    "    raise\n",
    "\n",
    "# Directories\n",
    "UPLOAD_FOLDER = 'uploads'\n",
    "EXTRACTED_FOLDER = 'extracted_clips'\n",
    "os.makedirs(UPLOAD_FOLDER, exist_ok=True)\n",
    "os.makedirs(EXTRACTED_FOLDER, exist_ok=True)\n",
    "app.config['UPLOAD_FOLDER'] = UPLOAD_FOLDER\n",
    "\n",
    "# Model path\n",
    "MODEL_PATH = r\"C:\\Users\\PMLS\\Documents\\ai fire detection frontend\\fire_detection_model_image.h5\"\n",
    "\n",
    "# Load the trained model\n",
    "try:\n",
    "    model = load_model(MODEL_PATH)\n",
    "    # Optional: Compile model to suppress warning (unnecessary for inference)\n",
    "    model.compile(optimizer='adam', loss='binary_crossentropy')\n",
    "    logger.info(\"Model loaded successfully\")\n",
    "except Exception as e:\n",
    "    logger.error(f\"Failed to load model: {str(e)}\")\n",
    "    raise\n",
    "\n",
    "# Store progress (simple in-memory storage; use Redis/database in production)\n",
    "progress_data = {}\n",
    "\n",
    "def extract_fire_clips(\n",
    "    video_path,\n",
    "    output_dir,\n",
    "    progress_id=None,\n",
    "    initial_frame_skip=30,\n",
    "    frame_threshold=0.3,\n",
    "    dynamic_skip_factor=5\n",
    "):\n",
    "    \"\"\"\n",
    "    Extract frames with fire from video and combine into one output video clip.\n",
    "    Dynamically reduce frame skipping when fire is detected.\n",
    "    \"\"\"\n",
    "    try:\n",
    "        if not os.path.exists(output_dir):\n",
    "            os.makedirs(output_dir)\n",
    "            logger.info(f\"Created output directory: {output_dir}\")\n",
    "\n",
    "        cap = cv2.VideoCapture(video_path)\n",
    "        if not cap.isOpened():\n",
    "            logger.error(f\"Failed to open video: {video_path}\")\n",
    "            raise ValueError(\"Invalid or corrupted video file\")\n",
    "\n",
    "        total_frames = int(cap.get(cv2.CAP_PROP_FRAME_COUNT))\n",
    "        fps = cap.get(cv2.CAP_PROP_FPS)\n",
    "        logger.info(f\"Processing video: {video_path}, Total frames: {total_frames}, FPS: {fps}\")\n",
    "\n",
    "        frame_num = 0\n",
    "        frame_skip = initial_frame_skip\n",
    "        fire_detected_frames = []\n",
    "\n",
    "        print(\"[INFO] Starting frame analysis with dynamic skip...\")\n",
    "\n",
    "        while frame_num < total_frames:\n",
    "            cap.set(cv2.CAP_PROP_POS_FRAMES, frame_num)\n",
    "            ret, frame = cap.read()\n",
    "\n",
    "            if not ret:\n",
    "                logger.warning(f\"Failed to read frame {frame_num}\")\n",
    "                break\n",
    "\n",
    "            frame_resized = cv2.resize(frame, (299, 299))\n",
    "            frame_rgb = cv2.cvtColor(frame_resized, cv2.COLOR_BGR2RGB)\n",
    "            frame_norm = frame_rgb.astype(np.float32) / 255.0\n",
    "\n",
    "            try:\n",
    "                fire_prob = model.predict(np.expand_dims(frame_norm, axis=0), verbose=0)[0][0]\n",
    "                print(f\"Frame {frame_num}: Fire probability = {fire_prob:.2f}\")\n",
    "                logger.debug(f\"Frame {frame_num}: Fire probability = {fire_prob:.2f}\")\n",
    "            except Exception as e:\n",
    "                logger.error(f\"Prediction error at frame {frame_num}: {str(e)}\")\n",
    "                raise\n",
    "\n",
    "            if fire_prob > frame_threshold:\n",
    "                fire_detected_frames.append(frame_resized)\n",
    "                frame_skip = max(1, frame_skip // dynamic_skip_factor)\n",
    "            else:\n",
    "                frame_skip = initial_frame_skip\n",
    "\n",
    "            # Update progress\n",
    "            if progress_id and progress_id in progress_data:\n",
    "                progress = (frame_num / total_frames) * 100\n",
    "                progress_data[progress_id]['progress'] = progress\n",
    "                logger.debug(f\"Progress for {progress_id}: {progress:.2f}%\")\n",
    "            else:\n",
    "                logger.warning(f\"Progress not updated: progress_id {progress_id} not in progress_data\")\n",
    "\n",
    "            frame_num += frame_skip\n",
    "\n",
    "        cap.release()\n",
    "\n",
    "        # Save all fire frames into a single video\n",
    "        if fire_detected_frames:\n",
    "            output_clip_path = os.path.join(output_dir, f\"fire_clip_combined.mp4\")\n",
    "            fourcc = cv2.VideoWriter_fourcc(*'mp4v')\n",
    "            out = cv2.VideoWriter(output_clip_path, fourcc, fps, (299, 299))\n",
    "\n",
    "            if not out.isOpened():\n",
    "                logger.error(f\"Failed to create output video: {output_clip_path}\")\n",
    "                raise IOError(\"Failed to create output video\")\n",
    "\n",
    "            for frame in fire_detected_frames:\n",
    "                out.write(frame)\n",
    "\n",
    "            out.release()\n",
    "            print(f\"[SAVED] Combined fire clip: {output_clip_path}\")\n",
    "            logger.info(f\"Saved combined fire clip: {output_clip_path}\")\n",
    "        else:\n",
    "            print(\"[INFO] No fire detected in video.\")\n",
    "            logger.info(\"No fire frames detected to save.\")\n",
    "\n",
    "    except Exception as e:\n",
    "        logger.error(f\"Error in extract_fire_clips: {str(e)}\", exc_info=True)\n",
    "        raise\n",
    "\n",
    "\n",
    "# Routes\n",
    "@app.route('/')\n",
    "def index():\n",
    "    if 'user_id' in session:\n",
    "        logger.debug(\"User already logged in, redirecting to upload\")\n",
    "        return redirect(url_for('upload'))\n",
    "    return render_template('index.html')\n",
    "\n",
    "@app.route('/login', methods=['GET', 'POST'])\n",
    "def login():\n",
    "    if 'user_id' in session:\n",
    "        logger.debug(\"User already logged in, redirecting to upload\")\n",
    "        return redirect(url_for('upload'))\n",
    "    if request.method == 'POST':\n",
    "        email = request.form['email']\n",
    "        password = request.form['password']\n",
    "        user = users.find_one({'email': email})\n",
    "        if user and check_password_hash(user['password'], password):\n",
    "            session['user_id'] = str(user['_id'])\n",
    "            session.permanent = True  # Make session persistent\n",
    "            logger.info(f\"User {email} logged in successfully\")\n",
    "            return redirect(url_for('upload'))\n",
    "        return render_template('login.html', error='Invalid credentials')\n",
    "    return render_template('login.html')\n",
    "\n",
    "@app.route('/register', methods=['GET', 'POST'])\n",
    "def register():\n",
    "    if 'user_id' in session:\n",
    "        logger.debug(\"User already logged in, redirecting to upload\")\n",
    "        return redirect(url_for('upload'))\n",
    "    if request.method == 'POST':\n",
    "        username = request.form['username']\n",
    "        email = request.form['email']\n",
    "        password = request.form['password']\n",
    "        if users.find_one({'email': email}):\n",
    "            return render_template('register.html', error='Email already exists')\n",
    "        hashed_password = generate_password_hash(password)\n",
    "        users.insert_one({\n",
    "            'username': username,\n",
    "            'email': email,\n",
    "            'password': hashed_password\n",
    "        })\n",
    "        logger.info(f\"User {email} registered successfully\")\n",
    "        return redirect(url_for('login'))\n",
    "    return render_template('register.html')\n",
    "\n",
    "@app.route('/upload', methods=['GET', 'POST'])\n",
    "def upload():\n",
    "    if 'user_id' not in session:\n",
    "        logger.debug(\"No user session, redirecting to login\")\n",
    "        return redirect(url_for('login'))\n",
    "    if request.method == 'POST':\n",
    "        try:\n",
    "            if 'video' not in request.files:\n",
    "                logger.error(\"No video file provided in request\")\n",
    "                return jsonify({'error': 'No video file provided'}), 400\n",
    "            file = request.files['video']\n",
    "            if file.filename == '':\n",
    "                logger.error(\"No selected file\")\n",
    "                return jsonify({'error': 'No selected file'}), 400\n",
    "            \n",
    "            # Check if processing is already in progress\n",
    "            if session.get('processing_id') and session['processing_id'] in progress_data and not progress_data[session['processing_id']]['done']:\n",
    "                logger.warning(\"Processing already in progress for this session\")\n",
    "                return jsonify({'error': 'Processing already in progress'}), 400\n",
    "            \n",
    "            filename = f\"{uuid.uuid4()}_{file.filename}\"\n",
    "            video_path = os.path.join(app.config['UPLOAD_FOLDER'], filename)\n",
    "            file.save(video_path)\n",
    "            logger.info(f\"Video saved to {video_path}\")\n",
    "            \n",
    "            # Store processing session\n",
    "            processing_id = str(uuid.uuid4())\n",
    "            session['processing_id'] = processing_id\n",
    "            progress_data[processing_id] = {'progress': 0, 'done': False}\n",
    "            logger.debug(f\"Started processing with ID: {processing_id}\")\n",
    "            \n",
    "            # Process video synchronously\n",
    "            try:\n",
    "                extract_fire_clips(\n",
    "                    video_path=video_path,\n",
    "                    output_dir=EXTRACTED_FOLDER,\n",
    "                    progress_id=processing_id,\n",
    "                    frame_skip=5,\n",
    "                    min_clip_length=5,\n",
    "                    frame_threshold=0.3,\n",
    "                    vote_window=10,\n",
    "                    vote_majority=3\n",
    "                )\n",
    "                progress_data[processing_id]['done'] = True\n",
    "                logger.info(\"Video processing completed\")\n",
    "            except Exception as e:\n",
    "                logger.error(f\"Failed to process video with extract_fire_clips: {str(e)}\", exc_info=True)\n",
    "                raise ValueError(f\"Video processing failed: {str(e)}\")\n",
    "            \n",
    "            return jsonify({'message': 'Processing complete', 'redirect': url_for('results')})\n",
    "        except Exception as e:\n",
    "            logger.error(f\"Error processing video: {str(e)}\", exc_info=True)\n",
    "            return jsonify({'error': f\"Server error: {str(e)}\"}), 500\n",
    "    return render_template('upload.html')\n",
    "\n",
    "@app.route('/progress')\n",
    "def get_progress():\n",
    "    try:\n",
    "        processing_id = session.get('processing_id')\n",
    "        logger.debug(f\"Fetching progress for processing_id: {processing_id}\")\n",
    "        if processing_id and processing_id in progress_data:\n",
    "            logger.debug(f\"Progress data: {progress_data[processing_id]}\")\n",
    "            return jsonify(progress_data[processing_id])\n",
    "        logger.warning(\"No progress data found for session\")\n",
    "        return jsonify({'progress': 0, 'done': False})\n",
    "    except Exception as e:\n",
    "        logger.error(f\"Error fetching progress: {str(e)}\")\n",
    "        return jsonify({'error': f\"Server error: {str(e)}\"}), 500\n",
    "\n",
    "@app.route('/results')\n",
    "def results():\n",
    "    if 'user_id' not in session:\n",
    "        logger.debug(\"No user session, redirecting to login\")\n",
    "        return redirect(url_for('login'))\n",
    "    try:\n",
    "        clips = [\n",
    "            {'url': f\"/extracted_clips/{file}\"}\n",
    "            for file in os.listdir(EXTRACTED_FOLDER)\n",
    "            if file.endswith('.mp4')\n",
    "        ]\n",
    "        logger.info(f\"Found {len(clips)} clips in results\")\n",
    "        return render_template('results.html', clips=clips)\n",
    "    except Exception as e:\n",
    "        logger.error(f\"Error loading results: {str(e)}\")\n",
    "        return render_template('results.html', clips=[], error=str(e))\n",
    "\n",
    "@app.route('/logout')\n",
    "def logout():\n",
    "    session.pop('user_id', None)\n",
    "    session.pop('processing_id', None)\n",
    "    logger.info(\"User logged out\")\n",
    "    return render_template('logout.html')\n",
    "\n",
    "# Serve extracted clips\n",
    "@app.route('/extracted_clips/<filename>')\n",
    "def serve_clip(filename):\n",
    "    try:\n",
    "        return send_from_directory(EXTRACTED_FOLDER, filename)\n",
    "    except Exception as e:\n",
    "        logger.error(f\"Error serving clip {filename}: {str(e)}\")\n",
    "        return jsonify({'error': f\"File not found: {str(e)}\"}), 404\n",
    "\n",
    "if __name__ == '__main__':\n",
    "    app.run()"
   ]
  },
  {
   "cell_type": "code",
   "execution_count": null,
   "id": "9c2ef81d",
   "metadata": {},
   "outputs": [],
   "source": []
  }
 ],
 "metadata": {
  "kernelspec": {
   "display_name": "Python 3",
   "language": "python",
   "name": "python3"
  },
  "language_info": {
   "codemirror_mode": {
    "name": "ipython",
    "version": 3
   },
   "file_extension": ".py",
   "mimetype": "text/x-python",
   "name": "python",
   "nbconvert_exporter": "python",
   "pygments_lexer": "ipython3",
   "version": "3.12.5"
  }
 },
 "nbformat": 4,
 "nbformat_minor": 5
}
